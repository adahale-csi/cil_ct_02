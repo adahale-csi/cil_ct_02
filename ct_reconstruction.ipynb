import matplotlib.pyplot as plt
from ct_reconstruction import reconstruction

plt.imshow(reconstruction.array, cmap='gray')
plt.colorbar()
plt.title('CT Reconstruction')
plt.show()
